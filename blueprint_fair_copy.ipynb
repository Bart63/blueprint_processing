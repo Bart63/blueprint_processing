{
 "cells": [
  {
   "cell_type": "code",
   "execution_count": 1,
   "id": "41d6d515",
   "metadata": {},
   "outputs": [],
   "source": [
    "import numpy as np\n",
    "import imutils\n",
    "import cv2\n",
    "import os\n",
    "import re\n",
    "import math\n",
    "from shapely.geometry import Point, LineString\n",
    "from shapely.geometry.polygon import Polygon"
   ]
  },
  {
   "cell_type": "code",
   "execution_count": 2,
   "id": "8ea37465",
   "metadata": {},
   "outputs": [],
   "source": [
    "template_method = cv2.TM_CCOEFF_NORMED"
   ]
  },
  {
   "cell_type": "code",
   "execution_count": 3,
   "id": "075e4542",
   "metadata": {},
   "outputs": [],
   "source": [
    "def sorted_alphanumeric(data):\n",
    "    convert = lambda text: int(text) if text.isdigit() else text.lower()\n",
    "    alphanum_key = lambda key: [ convert(c) for c in re.split('([0-9]+)', key) ] \n",
    "    return sorted(data, key=alphanum_key)"
   ]
  },
  {
   "cell_type": "markdown",
   "id": "1d5e8338",
   "metadata": {},
   "source": [
    "# Path management"
   ]
  },
  {
   "cell_type": "code",
   "execution_count": 4,
   "id": "d220bc5f",
   "metadata": {},
   "outputs": [],
   "source": [
    "get_fname = lambda path: os.path.basename(path)\n",
    "get_fname_short = lambda path: get_fname(path).split('.')[0]"
   ]
  },
  {
   "cell_type": "code",
   "execution_count": 5,
   "id": "aec72e35",
   "metadata": {},
   "outputs": [],
   "source": [
    "dir_path = lambda name: os.path.join(os.getcwd(), name)\n",
    "file_path = lambda dirpath, filename: os.path.join(dirpath, filename)"
   ]
  },
  {
   "cell_type": "code",
   "execution_count": 6,
   "id": "87e68fcc",
   "metadata": {},
   "outputs": [],
   "source": [
    "blueprints_path = dir_path(\"Plans\")\n",
    "entrances_path = dir_path(\"Entrance\")\n",
    "templates_path = dir_path(\"Furniture\")\n",
    "output_path = dir_path(\"Output\")"
   ]
  },
  {
   "cell_type": "code",
   "execution_count": 7,
   "id": "c47eb62e",
   "metadata": {},
   "outputs": [
    {
     "data": {
      "text/plain": [
       "['C:\\\\Users\\\\barte\\\\Documents\\\\Python Scripts\\\\Blueprint_processing\\\\Plans\\\\p3.png']"
      ]
     },
     "execution_count": 7,
     "metadata": {},
     "output_type": "execute_result"
    }
   ],
   "source": [
    "blueprints_files = [file_path(blueprints_path, blueprint_name) for blueprint_name in sorted_alphanumeric(os.listdir(blueprints_path))]\n",
    "blueprints_files[:2]"
   ]
  },
  {
   "cell_type": "code",
   "execution_count": 8,
   "id": "2b2d31c4",
   "metadata": {},
   "outputs": [
    {
     "data": {
      "text/plain": [
       "['C:\\\\Users\\\\barte\\\\Documents\\\\Python Scripts\\\\Blueprint_processing\\\\Furniture\\\\BathroomShower1.PNG',\n",
       " 'C:\\\\Users\\\\barte\\\\Documents\\\\Python Scripts\\\\Blueprint_processing\\\\Furniture\\\\BathroomSink1.PNG']"
      ]
     },
     "execution_count": 8,
     "metadata": {},
     "output_type": "execute_result"
    }
   ],
   "source": [
    "templates_files = [file_path(templates_path, template_name) for template_name in os.listdir(templates_path)]\n",
    "templates_files[:2]"
   ]
  },
  {
   "cell_type": "code",
   "execution_count": 9,
   "id": "b1e638e4",
   "metadata": {},
   "outputs": [
    {
     "data": {
      "text/plain": [
       "['C:\\\\Users\\\\barte\\\\Documents\\\\Python Scripts\\\\Blueprint_processing\\\\Entrance\\\\EntranceArrow1.PNG',\n",
       " 'C:\\\\Users\\\\barte\\\\Documents\\\\Python Scripts\\\\Blueprint_processing\\\\Entrance\\\\EntranceArrow2.PNG',\n",
       " 'C:\\\\Users\\\\barte\\\\Documents\\\\Python Scripts\\\\Blueprint_processing\\\\Entrance\\\\EntranceArrow3.PNG']"
      ]
     },
     "execution_count": 9,
     "metadata": {},
     "output_type": "execute_result"
    }
   ],
   "source": [
    "entrance_files = [file_path(entrances_path, entrance_name) for entrance_name in os.listdir(entrances_path)]\n",
    "entrance_files"
   ]
  },
  {
   "cell_type": "markdown",
   "id": "574e9445",
   "metadata": {},
   "source": [
    "# Image functions"
   ]
  },
  {
   "cell_type": "code",
   "execution_count": 10,
   "id": "7f16169c",
   "metadata": {},
   "outputs": [],
   "source": [
    "def show(imgs, txt='', scl=1):\n",
    "    if isinstance(imgs, list):\n",
    "        for idx, img in enumerate(imgs):\n",
    "            cv2.imshow(f'{idx} {txt}', scale(img, scl))\n",
    "    else:\n",
    "        cv2.imshow(txt, scale(imgs, scl))\n",
    "    cv2.waitKey(0)\n",
    "    cv2.destroyAllWindows()"
   ]
  },
  {
   "cell_type": "code",
   "execution_count": 11,
   "id": "baa0ebdf",
   "metadata": {},
   "outputs": [],
   "source": [
    "def read(fname):\n",
    "    return cv2.imread(fname, 0)"
   ]
  },
  {
   "cell_type": "code",
   "execution_count": 12,
   "id": "ab17419d",
   "metadata": {},
   "outputs": [],
   "source": [
    "def scale(img, scale):\n",
    "    return cv2.resize(img, (0,0), fx=scale, fy=scale)"
   ]
  },
  {
   "cell_type": "code",
   "execution_count": 13,
   "id": "6a277943",
   "metadata": {},
   "outputs": [],
   "source": [
    "def rotate_scale(img, angle, scale_xy=1):\n",
    "    height, width = img.shape[:2]\n",
    "    \n",
    "    image_center = (width/2, height/2)\n",
    "    \n",
    "    rotation_mat = cv2.getRotationMatrix2D(image_center, angle, scale_xy)\n",
    "    \n",
    "    abs_cos = abs(rotation_mat[0,0]) \n",
    "    abs_sin = abs(rotation_mat[0,1])\n",
    "\n",
    "    bound_w = int(height * abs_sin + width * abs_cos)\n",
    "    bound_h = int(height * abs_cos + width * abs_sin)\n",
    "\n",
    "    rotation_mat[0, 2] += bound_w/2 - image_center[0]\n",
    "    rotation_mat[1, 2] += bound_h/2 - image_center[1]\n",
    "\n",
    "    rotated_img = cv2.warpAffine(img, rotation_mat, (bound_w, bound_h))\n",
    "    return rotated_img"
   ]
  },
  {
   "cell_type": "code",
   "execution_count": 14,
   "id": "fea8330a",
   "metadata": {},
   "outputs": [],
   "source": [
    "def draw_on_img(background, img, start_point=(0,0)):\n",
    "    dest = background.copy()\n",
    "    x_slice = slice(start_point[1], start_point[1]+img.shape[0])\n",
    "    y_slice = slice(start_point[0], start_point[0]+img.shape[1])\n",
    "    dest[x_slice, y_slice] = img.copy()\n",
    "    return dest"
   ]
  },
  {
   "cell_type": "markdown",
   "id": "b6e27a0f",
   "metadata": {},
   "source": [
    "# Detekcja wejścia"
   ]
  },
  {
   "cell_type": "code",
   "execution_count": 15,
   "id": "60220cb4",
   "metadata": {},
   "outputs": [],
   "source": [
    "def detect_center(img):\n",
    "    thresh = cv2.threshold(img, 60, 255, cv2.THRESH_BINARY)[1]\n",
    "    cnts = cv2.findContours(thresh.copy(), cv2.RETR_EXTERNAL, cv2.CHAIN_APPROX_SIMPLE)\n",
    "    cnts = imutils.grab_contours(cnts)\n",
    "    c = cnts[0]\n",
    "    \n",
    "    M = cv2.moments(c)\n",
    "    cX = int(M[\"m10\"] / M[\"m00\"])\n",
    "    cY = int(M[\"m01\"] / M[\"m00\"])\n",
    "    \n",
    "    return cX, cY"
   ]
  },
  {
   "cell_type": "code",
   "execution_count": 16,
   "id": "9ec9668e",
   "metadata": {},
   "outputs": [],
   "source": [
    "def get_entrance(blueprint_img, settings):\n",
    "    angle_precision = settings['angle_precision']\n",
    "    scale_max, scale_min = settings['scale_max'], settings['scale_min']\n",
    "    scale_precision = settings['scale_precision']\n",
    "    threshold = settings['threshold']\n",
    "    \n",
    "    scale_max_marg = scale_max+scale_precision*0.1\n",
    "    \n",
    "    best_location = []\n",
    "    best_entrance_dict = {'fname': '', 'x_mid': 0, 'y_mid': 0, 'scale': 0, 'angle': 0, 'score': 0}\n",
    "    for entrance_fname in entrance_files:\n",
    "        current_entrance = read(entrance_fname)\n",
    "        \n",
    "        for angl in range(0, 360, angle_precision):\n",
    "            cur_entr_rot = rotate_scale(current_entrance, angl)\n",
    "            \n",
    "            scl = scale_min\n",
    "            while scl < scale_max_marg:\n",
    "                cur_entr = scale(cur_entr_rot, scl)\n",
    "                result = cv2.matchTemplate(blueprint_img, cur_entr, template_method)\n",
    "                _, max_val, _, location = cv2.minMaxLoc(result)\n",
    "        \n",
    "                if max_val <= best_entrance_dict['score'] or max_val <= threshold:\n",
    "                    scl += scale_precision\n",
    "                    continue\n",
    "                \n",
    "                mark_img = np.zeros(cur_entr.shape)\n",
    "                \n",
    "                test_overlay = draw_on_img(blueprint_img, mark_img, location)\n",
    "                #show(scale(test_overlay, 0.25), f'{entrance_fname} {scl} {angl}')\n",
    "                \n",
    "                best_entrance_dict['fname'] = entrance_fname\n",
    "                best_entrance_dict['scale'] = scl\n",
    "                best_entrance_dict['angle'] = angl \n",
    "                best_entrance_dict['score'] = max_val \n",
    "                best_location = location\n",
    "                scl += scale_precision\n",
    "                \n",
    "    best_entrance = read(best_entrance_dict['fname'])\n",
    "    best_entrance = rotate_scale(best_entrance, best_entrance_dict['angle'])\n",
    "    best_entrance = scale(best_entrance, best_entrance_dict['scale'])\n",
    "    \n",
    "    cX, cY = detect_center(best_entrance)\n",
    "    best_entrance_dict['x_mid'] = best_location[1] + cY\n",
    "    best_entrance_dict['y_mid'] = best_location[0] + cX\n",
    "    \n",
    "    return best_entrance_dict"
   ]
  },
  {
   "cell_type": "markdown",
   "id": "bd33e9a7",
   "metadata": {},
   "source": [
    "# Detekcja mebli"
   ]
  },
  {
   "cell_type": "code",
   "execution_count": 17,
   "id": "e81982d8",
   "metadata": {},
   "outputs": [],
   "source": [
    "def get_furnitures(blueprint_img, settings):\n",
    "    angle_precision = settings['angle_precision']\n",
    "    scale_max, scale_min = settings['scale_max'], settings['scale_min']\n",
    "    scale_precision = settings['scale_precision']\n",
    "    threshold = settings['threshold']\n",
    "    max_instances_detect = settings['max_instances_detect']\n",
    "    \n",
    "    scale_max_marg = scale_max+scale_precision*0.1\n",
    "    blueprint_img = cv2.threshold(blueprint_img, 128, 255, cv2.THRESH_BINARY | cv2.THRESH_OTSU)[1]\n",
    "    detected_furnitures = {}\n",
    "    for furniture_fname in templates_files:\n",
    "        furniture_img = cv2.threshold(read(furniture_fname), 128, 255, cv2.THRESH_BINARY | cv2.THRESH_OTSU)[1]\n",
    "        detected_furnitures[furniture_fname] = {}\n",
    "        \n",
    "        furniture_rects_all = []\n",
    "        \n",
    "        for angl in range(0, 360, angle_precision):\n",
    "            cur_fur_rot = rotate_scale(furniture_img, angl)\n",
    "            detected_furnitures[furniture_fname][angl] = {'score':0, 'scale':0, 'rectangles':[]}\n",
    "            \n",
    "            scl = scale_min\n",
    "            while scl < scale_max_marg:\n",
    "                cur_fur = scale(cur_fur_rot, scl)\n",
    "                result = cv2.matchTemplate(blueprint_img, cur_fur, template_method)\n",
    "                _, max_val, _, _ = cv2.minMaxLoc(result)\n",
    "\n",
    "                max_det_score = detected_furnitures[furniture_fname][angl]['score']\n",
    "                if max_val <= max_det_score or max_val < threshold:\n",
    "                    scl += scale_precision\n",
    "                    continue\n",
    "\n",
    "                yloc, xloc = np.where(result >= threshold)\n",
    "                if len(yloc) > max_instances_detect:\n",
    "                    scl += scale_precision\n",
    "                    continue\n",
    "\n",
    "                rectangles = []\n",
    "                for (x, y) in zip(xloc, yloc):\n",
    "                    rectangles.append([int(x), int(y), int(cur_fur.shape[1]), int(cur_fur.shape[0])])\n",
    "                    rectangles.append([int(x), int(y), int(cur_fur.shape[1]), int(cur_fur.shape[0])])\n",
    "                rectangles, weights = cv2.groupRectangles(rectangles, 1, 0.2)\n",
    "                \n",
    "                good_rects = []\n",
    "                \n",
    "                for i1, r1 in enumerate(rectangles):\n",
    "                    polygon1 = Polygon([[r1[0], r1[1]], [r1[0], r1[1]+r1[3]], [r1[0]+r1[2], r1[1]+r1[3]], [r1[0]+r1[2], r1[1]]])\n",
    "                    \n",
    "                    rects_all = furniture_rects_all + good_rects \n",
    "                    for r2 in rects_all:\n",
    "                        polygon2 = Polygon([[r2[0], r2[1]], [r2[0], r2[1]+r2[3]], [r2[0]+r2[2], r2[1]+r2[3]], [r2[0]+r2[2], r2[1]]])\n",
    "                        scr = 2*polygon1.intersection(polygon2).area / (polygon1.area+polygon2.area)\n",
    "                        if scr > settings['max_overlap_perc']:\n",
    "                            break\n",
    "                    else:\n",
    "                        good_rects.append(r1)\n",
    "                \n",
    "                detected_furnitures[furniture_fname][angl]['score'] = max_val\n",
    "                detected_furnitures[furniture_fname][angl]['scale'] = scl\n",
    "                detected_furnitures[furniture_fname][angl]['rectangles'] = good_rects\n",
    "\n",
    "                scl += scale_precision\n",
    "            furniture_rects_all.extend(detected_furnitures[furniture_fname][angl]['rectangles'])\n",
    "            if len(detected_furnitures[furniture_fname][angl]['rectangles']) == 0:\n",
    "                detected_furnitures[furniture_fname].pop(angl, None)\n",
    "        if not detected_furnitures[furniture_fname]:\n",
    "            detected_furnitures.pop(furniture_fname, None)\n",
    "    return detected_furnitures"
   ]
  },
  {
   "cell_type": "markdown",
   "id": "ca0a6015",
   "metadata": {},
   "source": [
    "debug_img1 - kształty, kontury ścian\n",
    "\n",
    "debug_img2 - wielokąty po przekształceniu kształtów\n",
    "\n",
    "debug_img3 - przetworzone wielokąty do postaci z odcinkami wyłącznie pionowymi lub poziomymi\n",
    "\n",
    "debug_img4 - końcowe prostokąty z zaznaczonym środkiem"
   ]
  },
  {
   "cell_type": "markdown",
   "id": "1a261f57",
   "metadata": {},
   "source": [
    "# Detekcja ścian"
   ]
  },
  {
   "cell_type": "code",
   "execution_count": 18,
   "id": "add14c6a",
   "metadata": {},
   "outputs": [],
   "source": [
    "def image_processing(img, settings):\n",
    "    blueprint_walled = img.copy()\n",
    "    thr = cv2.threshold(blueprint_walled, 250, 255, cv2.THRESH_BINARY | cv2.THRESH_OTSU)[1]\n",
    "    blurred = cv2.medianBlur(thr, settings['median_blur'])\n",
    "    dilated = cv2.dilate(blurred, None, iterations=1)\n",
    "    blur = cv2.GaussianBlur(dilated, (settings['gauss_blur'], settings['gauss_blur']), 0)\n",
    "    thresh = cv2.threshold(blur, settings['threshold'], 255, cv2.THRESH_BINARY)[1]\n",
    "    return thresh"
   ]
  },
  {
   "cell_type": "code",
   "execution_count": 19,
   "id": "a9fd414e",
   "metadata": {},
   "outputs": [],
   "source": [
    "def polygonArea(X, Y):\n",
    "    area = 0.0\n",
    "    n = len(X)\n",
    "    j = n - 1\n",
    "    for i in range(0,n):\n",
    "        area += (X[j] + X[i]) * (Y[j] - Y[i])\n",
    "        j = i \n",
    "    return abs(area / 2.0)"
   ]
  },
  {
   "cell_type": "code",
   "execution_count": 20,
   "id": "aaf6f91c",
   "metadata": {},
   "outputs": [],
   "source": [
    "def remove_vertices(poly, min_distance):\n",
    "    to_remove = []\n",
    "    temp = list(poly[1:])\n",
    "    temp.append(poly[0])\n",
    "    for i_pt, (pt1, pt2) in enumerate(zip(poly, temp)):\n",
    "        pt1 = pt1[0]\n",
    "        pt2 = pt2[0]\n",
    "        if pt1[0] == pt2[0] and pt1[1] == pt2[1]:\n",
    "            to_remove.append(i_pt)\n",
    "            continue\n",
    "        distance = ((pt1[0]- pt2[0]) ** 2 + (pt1[1]- pt2[1]) ** 2) ** 0.5\n",
    "        if distance < min_distance:\n",
    "            to_remove.append(i_pt)\n",
    "    last_idx = len(poly) - 1\n",
    "    \n",
    "    if len(to_remove) == 0:\n",
    "        return np.array(poly)\n",
    "        \n",
    "    if to_remove[0] == 0 and to_remove[-1] == last_idx:\n",
    "        to_remove = to_remove[:-1]\n",
    "    \n",
    "    poly = list(poly)\n",
    "    for tr in to_remove[::-1]:\n",
    "        poly.pop(tr)\n",
    "    return np.array(poly)"
   ]
  },
  {
   "cell_type": "code",
   "execution_count": 21,
   "id": "f79ce61f",
   "metadata": {},
   "outputs": [],
   "source": [
    "def poly_correction(poly, offset):\n",
    "    any_done = False\n",
    "    temp = list(poly[1:])\n",
    "    temp.append(poly[0])\n",
    "    for i_pt, (pt1, pt2) in enumerate(zip(poly, temp)):\n",
    "        pt1 = pt1[0]\n",
    "        pt2 = pt2[0]\n",
    "        for i, (xy1, xy2) in enumerate(zip(pt1, pt2)):\n",
    "            if abs(xy1 - xy2) <= offset:\n",
    "                if xy1 == xy2:\n",
    "                    continue\n",
    "                any_done = True\n",
    "                poly[i_pt][0][i] = xy2\n",
    "    if any_done:\n",
    "        return poly\n",
    "    return None"
   ]
  },
  {
   "cell_type": "code",
   "execution_count": 22,
   "id": "c9e36ba0",
   "metadata": {},
   "outputs": [],
   "source": [
    "def correct_triangularities(poly):\n",
    "    acted = True\n",
    "    poly2 = poly.tolist()\n",
    "    last_critical = 0\n",
    "    while acted:\n",
    "        next1 = list(poly2[1:])\n",
    "        next1.append(poly2[0])\n",
    "        next2 = list(next1[1:])\n",
    "        next2.append(next1[0])\n",
    "        next3 = list(next2[1:])\n",
    "        next3.append(next2[0])\n",
    "        size = len(poly2)\n",
    "        acted = False\n",
    "        is_critical = False\n",
    "        for i_poly, (pt0, pt1, pt2, pt3) in enumerate(zip(poly2, next1, next2, next3)):\n",
    "            pt0, pt1, pt2, pt3 = pt0[0], pt1[0], pt2[0], pt3[0]\n",
    "            is_hor_12 = (pt1[0] - pt2[0]) == 0\n",
    "            is_ver_12 = (pt1[1] - pt2[1]) == 0\n",
    "\n",
    "            if not (is_hor_12 or is_ver_12):\n",
    "                new_pt_1 = [pt1[0], pt2[1]]\n",
    "                \n",
    "                if not ((new_pt_1[0] == pt0[0] and new_pt_1[1] == pt0[1]) or (new_pt_1[0] == pt3[0] and new_pt_1[1] == pt3[1])):\n",
    "                    is_hor_n10 = (pt0[0] - new_pt_1[0]) == 0\n",
    "                    is_ver_n10 = (pt0[1] - new_pt_1[1]) == 0\n",
    "                    is_hor_n13 = (pt3[0] - new_pt_1[0]) == 0\n",
    "                    is_ver_n13 = (pt3[1] - new_pt_1[1]) == 0\n",
    "\n",
    "                    if is_hor_n10 or is_ver_n10 or is_hor_n13 or is_ver_n13:\n",
    "                        acted = True\n",
    "                        temp = poly2[:(i_poly+2)%size]\n",
    "                        temp.append([new_pt_1])\n",
    "                        temp += poly2[(i_poly+2)%size:]\n",
    "                        poly2 = temp\n",
    "                        break\n",
    "                \n",
    "                new_pt_2 = [pt2[0], pt1[1]]\n",
    "                \n",
    "                if not((new_pt_2[0] == pt0[0] and new_pt_2[1] == pt0[1]) or (new_pt_2[0] != pt3[0] and new_pt_2[1] != pt3[1])):\n",
    "                    is_hor_n20 = (pt0[0] - new_pt_2[0]) == 0\n",
    "                    is_ver_n20 = (pt0[1] - new_pt_2[1]) == 0\n",
    "                    is_hor_n23 = (pt3[0] - new_pt_2[0]) == 0\n",
    "                    is_ver_n23 = (pt3[1] - new_pt_2[1]) == 0\n",
    "\n",
    "                    if is_hor_n20 or is_ver_n20 or is_hor_n23 or is_ver_n23:\n",
    "                        acted = True\n",
    "                        temp = poly2[:(i_poly+2)%size]\n",
    "                        temp.append([new_pt_2])\n",
    "                        temp += poly2[(i_poly+2)%size:]\n",
    "                        poly2 = temp\n",
    "                        break\n",
    "                else:\n",
    "                    is_critical = True\n",
    "                    is_hor_02 = (pt0[0] - pt2[0]) == 0\n",
    "                    is_ver_02 = (pt0[1] - pt2[1]) == 0\n",
    "                    is_hor_13 = (pt1[0] - pt3[0]) == 0\n",
    "                    is_ver_13 = (pt1[1] - pt3[1]) == 0\n",
    "                    if is_hor_02 or is_ver_02:\n",
    "                        last_critical = i_poly + 1\n",
    "                    elif is_hor_13 or is_ver_13:\n",
    "                        last_critical = i_poly + 2\n",
    "                    continue\n",
    "        else:\n",
    "            if not acted and is_critical:\n",
    "                acted = True\n",
    "                print(\"Deleting troublesome vertex\")\n",
    "                poly2.pop(last_critical)\n",
    "    return poly2"
   ]
  },
  {
   "cell_type": "code",
   "execution_count": 23,
   "id": "028f7f56",
   "metadata": {},
   "outputs": [],
   "source": [
    "def correct_lines(poly):\n",
    "    acted = True\n",
    "    poly2 = poly\n",
    "    while acted:\n",
    "        if len(poly) == 0:\n",
    "            return []\n",
    "        acted = False\n",
    "        next1 = list(poly2[1:])\n",
    "        next1.append(poly2[0])\n",
    "        next2 = list(next1[1:])\n",
    "        next2.append(next1[0])\n",
    "        size = len(poly2)\n",
    "        for i_poly, (pt0, pt1, pt2) in enumerate(zip(poly2, next1, next2)):\n",
    "            pt0, pt1, pt2 = pt0[0], pt1[0], pt2[0]\n",
    "            is_hor_01 = (pt0[0] - pt1[0]) == 0\n",
    "            is_hor_12 = (pt1[0] - pt2[0]) == 0\n",
    "\n",
    "            is_ver_01 = (pt0[1] - pt1[1]) == 0\n",
    "            is_ver_12 = (pt1[1] - pt2[1]) == 0\n",
    "            \n",
    "            if (is_hor_01 and is_hor_12) or (is_ver_01 and is_ver_12):\n",
    "                acted = True\n",
    "                poly2.pop((i_poly+1)%size)\n",
    "                break\n",
    "    return poly2"
   ]
  },
  {
   "cell_type": "code",
   "execution_count": 24,
   "id": "bd6bea5a",
   "metadata": {},
   "outputs": [],
   "source": [
    "def draw_angled_line(img, pt0, pt1, color=(0,0,0), thickness=2):\n",
    "    cv2.line(img, pt0, pt1, color, thickness)"
   ]
  },
  {
   "cell_type": "code",
   "execution_count": 25,
   "id": "a15134b1",
   "metadata": {},
   "outputs": [],
   "source": [
    "def get_polygons(img, settings):\n",
    "    debug_img1 = ~np.zeros(img.shape, dtype=np.uint8)\n",
    "    debug_img2 = ~np.zeros(img.shape, dtype=np.uint8)\n",
    "    debug_img3 = ~np.zeros(img.shape, dtype=np.uint8)\n",
    "    \n",
    "    poly_approx = settings['poly_approx']\n",
    "    min_area = settings['min_area']\n",
    "    max_area = img.shape[0] * img.shape[1] * settings['max_area_percent']\n",
    "    px_near_delete = settings['remove_near_vertex']\n",
    "    linearize_offset = settings['linearize_offset' ]\n",
    "    \n",
    "    selected_polygons = []\n",
    "    contours,h = cv2.findContours(img,1,2)\n",
    "    for cnt in contours:\n",
    "        # Processing\n",
    "        approx = cv2.approxPolyDP(cnt,poly_approx*cv2.arcLength(cnt,True), closed=True)\n",
    "        vertices = np.array(approx)\n",
    "        if len(approx) < 4:\n",
    "            continue\n",
    "        area = polygonArea(vertices[:, :, 0], vertices[:, :, 1])\n",
    "\n",
    "        if area < min_area:\n",
    "             continue\n",
    "        if area > max_area:\n",
    "            continue\n",
    "\n",
    "        cleaned_poly = remove_vertices(approx.copy(), px_near_delete)\n",
    "\n",
    "        if len(cleaned_poly) < 4:\n",
    "            continue\n",
    "\n",
    "        corrected = poly_correction(cleaned_poly, linearize_offset)\n",
    "        if corrected is None:\n",
    "            continue\n",
    "\n",
    "        corrected_full = correct_triangularities(corrected)\n",
    "        \n",
    "        corrected_full = correct_lines(corrected_full)\n",
    "        if len(corrected_full) == 0:\n",
    "            continue\n",
    "            \n",
    "        selected_polygons.append(corrected_full)\n",
    "\n",
    "        \n",
    "        # Debug preparing\n",
    "        cv2.drawContours(debug_img1,[cnt],0,(0,0,255),2)\n",
    "        \n",
    "        temp = list(approx[1:])\n",
    "        temp.append(approx[0])\n",
    "        for pt0, pt1 in zip(approx, temp):\n",
    "            draw_angled_line(debug_img2, pt0[0], pt1[0])\n",
    "        \n",
    "        temp = list(corrected_full[1:])\n",
    "        temp.append(corrected_full[0])\n",
    "        for pt0, pt1 in zip(corrected_full, temp):\n",
    "            draw_angled_line(debug_img3, pt0[0], pt1[0])\n",
    "\n",
    "        for xy in corrected_full:\n",
    "            pass\n",
    "            cv2.circle(debug_img3, (xy[0][0], xy[0][1]), 9, (0, 0, 255), -1)\n",
    "    return selected_polygons, [debug_img1, debug_img2, debug_img3]"
   ]
  },
  {
   "cell_type": "code",
   "execution_count": 26,
   "id": "6107df05",
   "metadata": {},
   "outputs": [],
   "source": [
    "def construct_rectangles(poly):\n",
    "    if len(poly)==4:\n",
    "        return [[p[0] for p in poly]]\n",
    "    rects = []\n",
    "    acted = True\n",
    "    \n",
    "    while acted:\n",
    "        poly = correct_lines(poly)\n",
    "        size = len(poly)\n",
    "        if size == 4:\n",
    "            rects.append([p[0] for p in poly])\n",
    "            return rects\n",
    "        acted = False\n",
    "        \n",
    "        poly_vertices = [(p[0][0], p[0][1]) for p in poly]\n",
    "        polygon = Polygon(poly_vertices)\n",
    "        \n",
    "        for idx, pt in enumerate(poly):\n",
    "            pt0 = pt[0]\n",
    "            pt1 = poly[(idx+1)%size][0]\n",
    "            pt2 = poly[(idx+2)%size][0]\n",
    "            pt3 = poly[(idx+3)%size][0]\n",
    "\n",
    "            is_hor_01 = (pt0[0] - pt1[0]) == 0\n",
    "            is_hor_12 = (pt1[0] - pt2[0]) == 0\n",
    "            is_hor_23 = (pt2[0] - pt3[0]) == 0\n",
    "\n",
    "            is_ver_01 = (pt0[1] - pt1[1]) == 0\n",
    "            is_ver_12 = (pt1[1] - pt2[1]) == 0\n",
    "            is_ver_23 = (pt2[1] - pt3[1]) == 0\n",
    "\n",
    "            if is_hor_01 and is_ver_12 and is_hor_23:\n",
    "                dis01 = pt0[1]-pt1[1]\n",
    "                dis21 = pt3[1]-pt2[1]\n",
    "                if dis01 * dis21 < 0:\n",
    "                    continue\n",
    "                \n",
    "                dis01 = abs(dis01)\n",
    "                dis21 = abs(dis21)\n",
    "                    \n",
    "                mean_x = (pt0[0] + pt3[0]) // 2\n",
    "                \n",
    "                choosing = dis01<dis21\n",
    "                min_y = pt0[1] if choosing else pt3[1]\n",
    "                \n",
    "                point = Point(mean_x, min_y)\n",
    "                if not polygon.covers(point):\n",
    "                    continue\n",
    "                \n",
    "                if dis01 == dis21:\n",
    "                    rects.append([pt0, pt1, pt2, pt3])\n",
    "                    poly.remove([pt1])\n",
    "                    poly.remove([pt2])\n",
    "                    acted = True\n",
    "                    break\n",
    "                elif dis01 < dis21:\n",
    "                    rects.append([pt0, pt1, pt2, [pt3[0], pt0[1]]])\n",
    "                    poly.insert((idx+1), [[pt3[0], pt0[1]]])\n",
    "                    poly.remove([pt1])\n",
    "                    poly.remove([pt2])\n",
    "                    acted = True\n",
    "                    break\n",
    "                else:\n",
    "                    rects.append([[pt0[0], pt3[1]], pt1, pt2, pt3])\n",
    "                    poly.insert((idx+1), [[pt0[0], pt3[1]]])\n",
    "                    poly.remove([pt1])\n",
    "                    poly.remove([pt2])\n",
    "                    acted = True\n",
    "                    break\n",
    "                    \n",
    "            elif is_ver_01 and is_hor_12 and is_ver_23:\n",
    "                dis01 = pt0[0]-pt1[0]\n",
    "                dis21 = pt3[0]-pt2[0]\n",
    "                if dis01 * dis21 < 0:\n",
    "                    continue\n",
    "                \n",
    "                dis01 = abs(dis01)\n",
    "                dis21 = abs(dis21)\n",
    "                    \n",
    "                mean_y = (pt0[1] + pt3[1]) // 2\n",
    "                \n",
    "                choosing = dis01<dis21\n",
    "                min_x = pt0[0] if choosing else pt3[0]\n",
    "                \n",
    "                point = Point(min_x, mean_y)\n",
    "                \n",
    "                if not polygon.covers(point):\n",
    "                    continue\n",
    "                if dis01 == dis21:\n",
    "                    rects.append([pt0, pt1, pt2, pt3])\n",
    "                    poly.remove([pt1])\n",
    "                    poly.remove([pt2])\n",
    "                    acted = True\n",
    "                    break\n",
    "                elif dis01 < dis21:\n",
    "                    rects.append([pt0, pt1, pt2, [pt0[0], pt3[1]]])\n",
    "                    poly.insert((idx+1), [[pt0[0], pt3[1]]])\n",
    "                    poly.remove([pt1])\n",
    "                    poly.remove([pt2])\n",
    "                    acted = True\n",
    "                    break\n",
    "                else:\n",
    "                    rects.append([[pt3[0], pt0[1]], pt1, pt2, pt3])\n",
    "                    poly.insert((idx+1), [[pt3[0], pt0[1]]])\n",
    "                    poly.remove([pt1])\n",
    "                    poly.remove([pt2])\n",
    "                    acted = True\n",
    "                    break\n",
    "    print(\"Critical error. Contact the owner of the program\")\n",
    "    return rects"
   ]
  },
  {
   "cell_type": "code",
   "execution_count": 27,
   "id": "88f3d0fa",
   "metadata": {},
   "outputs": [],
   "source": [
    "def get_walls(img, settings):\n",
    "    ready_img = image_processing(img, settings)\n",
    "    polygons, debug_imgs = get_polygons(ready_img, settings)\n",
    "    \n",
    "    rects = []\n",
    "    for p in polygons:\n",
    "        rects.extend(construct_rectangles(p))\n",
    "\n",
    "    debug_img4 = ~np.zeros((*img.shape, 3), dtype=np.uint8)\n",
    "    rect_dicts_list = []\n",
    "    for rect in rects:\n",
    "        draw_angled_line(debug_img4, rect[0], rect[1])\n",
    "        draw_angled_line(debug_img4, rect[1], rect[2])\n",
    "        draw_angled_line(debug_img4, rect[2], rect[3])\n",
    "        draw_angled_line(debug_img4, rect[3], rect[0])\n",
    "        \n",
    "        x_mid = (rect[0][0] + rect[2][0]) / 2\n",
    "        y_mid = (rect[0][1] + rect[2][1]) / 2\n",
    "        width = abs(rect[0][0] - rect[2][0])\n",
    "        height = abs(rect[0][1] - rect[2][1])\n",
    "        rect_dict = {'x_mid': x_mid, 'y_mid': y_mid, 'width': width, 'height': height}\n",
    "        rect_dicts_list.append(rect_dict)\n",
    "        cv2.circle(debug_img4, (int(x_mid), int(y_mid)), 9, (0, 0, 255), -1)\n",
    "    \n",
    "    debug_imgs.append(debug_img4)\n",
    "    return rect_dicts_list, debug_imgs"
   ]
  },
  {
   "cell_type": "markdown",
   "id": "ed82e936",
   "metadata": {},
   "source": [
    "# Debug"
   ]
  },
  {
   "cell_type": "code",
   "execution_count": 28,
   "id": "3bf0c646",
   "metadata": {},
   "outputs": [],
   "source": [
    "def draw_angled_rec(img, x0, y0, width, height, color, thickness, angle):\n",
    "    _angle = angle * math.pi / 180.0\n",
    "    b = math.cos(_angle) * 0.5\n",
    "    a = math.sin(_angle) * 0.5\n",
    "    pt0 = (int(x0 - a * height - b * width),\n",
    "           int(y0 + b * height - a * width))\n",
    "    pt1 = (int(x0 + a * height - b * width),\n",
    "           int(y0 - b * height - a * width))\n",
    "    pt2 = (int(2 * x0 - pt0[0]), int(2 * y0 - pt0[1]))\n",
    "    pt3 = (int(2 * x0 - pt1[0]), int(2 * y0 - pt1[1]))\n",
    "\n",
    "    cv2.line(img, pt0, pt1, color, thickness)\n",
    "    cv2.line(img, pt1, pt2, color, thickness)\n",
    "    cv2.line(img, pt2, pt3, color, thickness)\n",
    "    cv2.line(img, pt3, pt0, color, thickness)"
   ]
  },
  {
   "cell_type": "code",
   "execution_count": 29,
   "id": "64235649",
   "metadata": {},
   "outputs": [],
   "source": [
    "def draw_center_point(img, center):\n",
    "    fur_id = list(center.keys())[0]\n",
    "    x, y = int(center[fur_id][0]), int(center[fur_id][1])\n",
    "    black = (0,0,0)\n",
    "    font_color = black\n",
    "    font = cv2.FONT_HERSHEY_SIMPLEX\n",
    "    font_size = 1.1\n",
    "    font_thickness = 2\n",
    "    img_text = cv2.putText(img, str(fur_id), (x+5,y-5), font, font_size, font_color, font_thickness, cv2.LINE_AA)\n",
    "    return cv2.circle(\n",
    "        img_text, \n",
    "        (x, y), \n",
    "        radius=0, color=black, thickness=8\n",
    "    )"
   ]
  },
  {
   "cell_type": "code",
   "execution_count": 30,
   "id": "87379741",
   "metadata": {},
   "outputs": [],
   "source": [
    "def draw_entrance_point(img, entrance):\n",
    "    return cv2.circle(\n",
    "        img, \n",
    "        (int(entrance['y_mid']), int(entrance['x_mid'])), \n",
    "        radius=0, color=(0, 0, 0), thickness=8\n",
    "    )"
   ]
  },
  {
   "cell_type": "code",
   "execution_count": 31,
   "id": "038a75ea",
   "metadata": {},
   "outputs": [],
   "source": [
    "def write_debug_info(blueprint_path, blueprint_img, entrance, furnitures, centers, debug_imgs):\n",
    "    blueprint_fname = get_fname_short(blueprint_path)\n",
    "    debug_path = file_path(dir_path(\"Output\"), f\"{blueprint_fname}_debug\")\n",
    "    if not os.path.exists(debug_path):\n",
    "        os.mkdir(debug_path)\n",
    "    else:\n",
    "        clear_stats(debug_path)\n",
    "        \n",
    "    current_blueprint_bgr = cv2.cvtColor(blueprint_img, cv2.COLOR_GRAY2BGR)\n",
    "    full_debug_img = current_blueprint_bgr.copy()\n",
    "    full_debug_fname = f'{blueprint_fname}_full.png'\n",
    "    full_debug_path = file_path(debug_path, full_debug_fname)\n",
    "    draw_entrance_point(full_debug_img, entrance)\n",
    "\n",
    "    i = 0\n",
    "    for fur_path, fur_dict in furnitures.items():\n",
    "        furniture_fname = get_fname_short(fur_path)\n",
    "\n",
    "        furniture_debug_path = file_path(debug_path, furniture_fname)\n",
    "        if not os.path.exists(furniture_debug_path):\n",
    "            os.mkdir(furniture_debug_path)\n",
    "        \n",
    "        for angle, detect_dir in fur_dict.items():\n",
    "            fur_debug_img = current_blueprint_bgr.copy()\n",
    "            fur_debug_img = draw_entrance_point(fur_debug_img, entrance)\n",
    "            fur_debug_fname = f'{furniture_fname}_{angle}.png'\n",
    "            fur_debug_path = file_path(furniture_debug_path, fur_debug_fname)\n",
    "\n",
    "            for r in detect_dir['rectangles']:\n",
    "                draw_angled_rec(fur_debug_img, r[0]+r[2]//2, r[1]+r[3]//2, r[2], r[3], (0,0,255), 3, angle)\n",
    "                draw_angled_rec(full_debug_img, r[0]+r[2]//2, r[1]+r[3]//2, r[2], r[3], (0,0,255), 3, angle)\n",
    "                fur_debug_img = draw_center_point(fur_debug_img, centers[i])\n",
    "                full_debug_img = draw_center_point(full_debug_img, centers[i])\n",
    "                i += 1\n",
    "            cv2.imwrite(fur_debug_path, fur_debug_img)\n",
    "    cv2.imwrite(full_debug_path, full_debug_img)\n",
    "    \n",
    "    debug_img_names = ['contours', 'poly', 'rect_poly', 'rects']\n",
    "    for img, din in zip(debug_imgs, debug_img_names):\n",
    "        full_path = file_path(debug_path, f'{blueprint_fname}_{din}.png')\n",
    "        cv2.imwrite(full_path, img)"
   ]
  },
  {
   "cell_type": "markdown",
   "id": "a764c751",
   "metadata": {},
   "source": [
    "# Save"
   ]
  },
  {
   "cell_type": "code",
   "execution_count": 32,
   "id": "1ae3e925",
   "metadata": {},
   "outputs": [],
   "source": [
    "def save_detection(blueprint_path, blueprint_img, entrance, furnitures, rect_dicts_list, debug_imgs, px_to_meters):\n",
    "    if not os.path.exists(dir_path(\"Output\")):\n",
    "        os.mkdir(dir_path(\"Output\"))\n",
    "        \n",
    "    stat_fname = get_fname_short(blueprint_path) + \".txt\"\n",
    "    stat_path = file_path(dir_path(\"Output\"), stat_fname)\n",
    "    \n",
    "    fur_id = 1\n",
    "    \n",
    "    entrance_xy = entrance['y_mid'], entrance['x_mid']\n",
    "    \n",
    "    \n",
    "    centers = []\n",
    "    with open(stat_path, 'w') as f:\n",
    "        \n",
    "        for fur_path, fur_dict in furnitures.items():\n",
    "            furniture_fname = get_fname_short(fur_path)\n",
    "            \n",
    "            for angle, detect_dir in fur_dict.items():\n",
    "                \n",
    "                for r in detect_dir['rectangles']:\n",
    "                    rec_center = get_center_pt(r)\n",
    "                    fur_center = get_middle_rel_pt(rec_center, entrance_xy, px_to_meters)\n",
    "                    centers.append({fur_id: rec_center})\n",
    "                    f.write(f'{fur_id};{furniture_fname};{round(fur_center[0], 3)};{round(fur_center[1], 3)};{angle};{round(detect_dir[\"score\"],3)};\\n')\n",
    "                    fur_id += 1\n",
    "        \n",
    "        for rect_dict in rect_dicts_list:\n",
    "            rec_center = get_middle_rel_pt((rect_dict[\"x_mid\"], rect_dict[\"y_mid\"]), entrance_xy, px_to_meters)\n",
    "            wid, hei = rect_dict[\"width\"]*px_to_meters, rect_dict[\"height\"]*px_to_meters\n",
    "            f.write(f'{fur_id};{\"sciana\"};{round(rec_center[0], 2)};{round(rec_center[1], 2)};{wid};{hei};\\n')\n",
    "            fur_id += 1\n",
    "    write_debug_info(blueprint_path, blueprint_img, entrance, furnitures, centers, debug_imgs)"
   ]
  },
  {
   "cell_type": "code",
   "execution_count": 33,
   "id": "6dff71c1",
   "metadata": {},
   "outputs": [],
   "source": [
    "def get_center_pt(rec):\n",
    "    return rec[0] + rec[2]/2, rec[1] + rec[3]/2"
   ]
  },
  {
   "cell_type": "code",
   "execution_count": 34,
   "id": "9f44d6ae",
   "metadata": {},
   "outputs": [],
   "source": [
    "def get_middle_rel_pt(rec_center, entrance_xy, px_to_meter):\n",
    "    rec_rel_center = rec_center[0] - entrance_xy[0], rec_center[1] - entrance_xy[1]\n",
    "    rec_rel_center = rec_rel_center[0] * px_to_meter, rec_rel_center[1] * px_to_meter\n",
    "    return rec_rel_center"
   ]
  },
  {
   "cell_type": "markdown",
   "id": "d5c58bfd",
   "metadata": {},
   "source": [
    "# Clear"
   ]
  },
  {
   "cell_type": "code",
   "execution_count": 35,
   "id": "6957911d",
   "metadata": {},
   "outputs": [],
   "source": [
    "def clear_stats(stat_path):\n",
    "    furniture_paths = [os.path.join(stat_path, p) for p in os.listdir(stat_path) if '.' not in p]\n",
    "    for fp in furniture_paths:\n",
    "        filelist = [f for f in os.listdir(fp)]\n",
    "        for f in filelist:\n",
    "            os.remove(os.path.join(fp, f))\n",
    "        os.rmdir(fp)\n",
    "    plan_path = [os.path.join(stat_path, p) for p in os.listdir(stat_path) if '.' in p]\n",
    "    if len(plan_path)>0:\n",
    "        os.remove(plan_path[0])"
   ]
  },
  {
   "cell_type": "markdown",
   "id": "9c49a4fd",
   "metadata": {},
   "source": [
    "# PIPELINE"
   ]
  },
  {
   "cell_type": "code",
   "execution_count": 36,
   "id": "f773f3f3",
   "metadata": {},
   "outputs": [],
   "source": [
    "# PathToFile\n",
    "\n",
    "# Settings Window\n",
    "\n",
    "settings = {\n",
    "    \"px_to_meters\" : 0.005,\n",
    "\n",
    "    \"entrance_detection\": {\n",
    "      \"angle_precision\": 90,\n",
    "      \"scale_max\": 0.75,\n",
    "      \"scale_min\": 0.6,\n",
    "      \"scale_precision\": 0.01,\n",
    "      \"threshold\": 0.7\n",
    "    },\n",
    "\n",
    "    \"furniture_detection\": {\n",
    "        \"angle_precision\": 90,\n",
    "        \"scale_max\": 1.02,\n",
    "        \"scale_min\": 0.98, \n",
    "        \"scale_precision\": 0.01,\n",
    "        \"threshold\": 0.7,\n",
    "        \"max_instances_detect\": 3,\n",
    "        \"max_overlap_perc\" : 0.6\n",
    "    },\n",
    "\n",
    "    \"wall_detection\": {\n",
    "        \"median_blur\": 5, \n",
    "        \"gauss_blur\": 9, \n",
    "        \"threshold\": 230, \n",
    "        \"poly_approx\": 0.001, \n",
    "        \"min_area\": 5500, \n",
    "        \"max_area_percent\": 0.3, \n",
    "        \"remove_near_vertex\": 10, \n",
    "        \"linearize_offset\": 10\n",
    "    }\n",
    "}"
   ]
  },
  {
   "cell_type": "code",
   "execution_count": 37,
   "id": "6300ab98",
   "metadata": {},
   "outputs": [
    {
     "data": {
      "text/plain": [
       "'C:\\\\Users\\\\barte\\\\Documents\\\\Python Scripts\\\\Blueprint_processing\\\\Plans\\\\p3.png'"
      ]
     },
     "execution_count": 37,
     "metadata": {},
     "output_type": "execute_result"
    }
   ],
   "source": [
    "blueprints_files[0]"
   ]
  },
  {
   "cell_type": "code",
   "execution_count": 42,
   "id": "1f8d0e9f",
   "metadata": {},
   "outputs": [],
   "source": [
    "# Blueprint choice (GetPath)\n",
    "blueprint_path = blueprints_files[0]\n",
    "current_blueprint = read(blueprint_path)\n",
    "\n",
    "# Get Entrance\n",
    "entrance = get_entrance(current_blueprint, settings['entrance_detection'])"
   ]
  },
  {
   "cell_type": "code",
   "execution_count": 43,
   "id": "5d0003ca",
   "metadata": {},
   "outputs": [],
   "source": [
    "# Get Furnitures\n",
    "furnitures = get_furnitures(current_blueprint, settings['furniture_detection'])"
   ]
  },
  {
   "cell_type": "code",
   "execution_count": 44,
   "id": "c8939018",
   "metadata": {},
   "outputs": [],
   "source": [
    "# Get Walls\n",
    "rect_dicts_list, debug_imgs = get_walls(current_blueprint, settings['wall_detection'])"
   ]
  },
  {
   "cell_type": "code",
   "execution_count": 45,
   "id": "202c34cd",
   "metadata": {},
   "outputs": [],
   "source": [
    "# Save Stats\n",
    "save_detection(blueprint_path, current_blueprint, entrance, furnitures, rect_dicts_list, debug_imgs, settings['px_to_meters'])"
   ]
  },
  {
   "cell_type": "code",
   "execution_count": 109,
   "id": "bb6ab0fd",
   "metadata": {},
   "outputs": [],
   "source": [
    "show(scale(cv2.threshold(current_blueprint, 128, 255, cv2.THRESH_BINARY | cv2.THRESH_OTSU)[1], 0.3), \"xD\")"
   ]
  },
  {
   "cell_type": "code",
   "execution_count": 88,
   "id": "8e473efc",
   "metadata": {
    "scrolled": true
   },
   "outputs": [
    {
     "data": {
      "text/plain": [
       "{'fname': 'C:\\\\Users\\\\barte\\\\paczka-danych-converter\\\\paczka danych converter\\\\Entrance\\\\EntranceArrow2.PNG',\n",
       " 'x_mid': 2027,\n",
       " 'y_mid': 2127,\n",
       " 'scale': 0.6400000000000002,\n",
       " 'angle': 0,\n",
       " 'score': 0.8638109564781189}"
      ]
     },
     "execution_count": 88,
     "metadata": {},
     "output_type": "execute_result"
    }
   ],
   "source": [
    "entrance"
   ]
  },
  {
   "cell_type": "code",
   "execution_count": 87,
   "id": "c4f62107",
   "metadata": {},
   "outputs": [
    {
     "data": {
      "text/plain": [
       "{0: {'score': 0.9991644620895386,\n",
       "  'scale': 1.0,\n",
       "  'rectangles': array([[2838, 1170,  459,  393]], dtype=int32)}}"
      ]
     },
     "execution_count": 87,
     "metadata": {},
     "output_type": "execute_result"
    }
   ],
   "source": [
    "furnitures['C:\\\\Users\\\\barte\\\\paczka-danych-converter\\\\paczka danych converter\\\\Furniture\\\\p5_0003_doublebed.jpg']"
   ]
  }
 ],
 "metadata": {
  "kernelspec": {
   "display_name": "Python 3 (ipykernel)",
   "language": "python",
   "name": "python3"
  },
  "language_info": {
   "codemirror_mode": {
    "name": "ipython",
    "version": 3
   },
   "file_extension": ".py",
   "mimetype": "text/x-python",
   "name": "python",
   "nbconvert_exporter": "python",
   "pygments_lexer": "ipython3",
   "version": "3.8.5"
  }
 },
 "nbformat": 4,
 "nbformat_minor": 5
}
